{
 "cells": [
  {
   "cell_type": "code",
   "execution_count": null,
   "id": "19f25018",
   "metadata": {},
   "outputs": [],
   "source": [
    "import os\n",
    "import cdsapi\n",
    "from tqdm import tqdm  # Barra de progreso (liviana)\n",
    "\n",
    "# Configuración\n",
    "variables = ['2m_temperature']\n",
    "years = ['2023', '2024']\n",
    "target_folder = 'ERA5_Data_Salta'\n",
    "os.makedirs(target_folder, exist_ok=True)\n",
    "\n",
    "# Inicializar cliente CDS\n",
    "c = cdsapi.Client()\n",
    "\n",
    "# Descarga con barra de progreso\n",
    "for year in tqdm(years, desc=\"Años\"):\n",
    "    for variable in tqdm(variables, desc=\"Variables\", leave=False):\n",
    "        filename = os.path.join(target_folder, f\"{variable}_{year}.nc\")\n",
    "        \n",
    "        # Notificación de inicio (opcional)\n",
    "        tqdm.write(f\"⬇️ Descargando {variable} ({variable})...\")\n",
    "        \n",
    "        # Solicitud a CDS\n",
    "        c.retrieve(\n",
    "            'reanalysis-era5-single-levels',\n",
    "            {\n",
    "                'product_type': 'reanalysis',\n",
    "                'variable': variable,\n",
    "                'year': year,\n",
    "                'month': [f'{i:02d}' for i in range(1, 13)],\n",
    "                'day': [f'{i:02d}' for i in range(1, 32)],\n",
    "                'time': [f'{i:02d}:00' for i in range(0, 24)],\n",
    "                'area': [-24.75, -65.50, -24.75, -65.50],\n",
    "                'format': 'netcdf',\n",
    "            },\n",
    "            filename\n",
    "        )\n",
    "        \n",
    "        # Notificación de éxito\n",
    "        tqdm.write(f\"{os.path.basename(filename)} ({os.path.getsize(filename)/1e6:.2f} MB)\")\n",
    "\n",
    "print(f\"\\n¡Descarga completada! Datos en: {os.path.abspath(target_folder)}\")"
   ]
  }
 ],
 "metadata": {
  "kernelspec": {
   "display_name": "env_trabajo (3.10.12)",
   "language": "python",
   "name": "python3"
  },
  "language_info": {
   "codemirror_mode": {
    "name": "ipython",
    "version": 3
   },
   "file_extension": ".py",
   "mimetype": "text/x-python",
   "name": "python",
   "nbconvert_exporter": "python",
   "pygments_lexer": "ipython3",
   "version": "3.10.12"
  }
 },
 "nbformat": 4,
 "nbformat_minor": 5
}
