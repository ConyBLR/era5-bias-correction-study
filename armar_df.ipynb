{
 "cells": [
  {
   "cell_type": "code",
   "execution_count": 1,
   "id": "970759bd",
   "metadata": {},
   "outputs": [
    {
     "name": "stdout",
     "output_type": "stream",
     "text": [
      "Latitudes disponibles: [-24.75]\n",
      "Longitudes disponibles: [-65.5]\n",
      "Datos de temperatura guardados en 'temperature_series.csv'.\n"
     ]
    }
   ],
   "source": [
    "'''\n",
    "Código para obtener las series temporales de las variables de interes.\n",
    "En este caso:\n",
    "    - t2m\n",
    "'''\n",
    "\n",
    "import xarray as xr\n",
    "import pandas as pd\n",
    "import glob\n",
    "\n",
    "\n",
    "path= '/home/cony/Documentos/Cony/trabajo_final/para_subir/ERA5_Data_Salta/'\n",
    "files = sorted(glob.glob(f\"{path}*.nc\"))\n",
    "\n",
    "\n",
    "# Punto de interés\n",
    "lat_sla = -24.7\n",
    "lon_sla = -65.4\n",
    "\n",
    "# Listas para guardar los valores\n",
    "temperature_series = []\n",
    "dewpoint_temperature_series = []\n",
    "\n",
    "# Procesar cada archivo\n",
    "for f in files:\n",
    "    ds = xr.open_dataset(f)\n",
    "    \n",
    "    # Mostrar las coordenadas disponibles (solo la primera vez)\n",
    "    if not temperature_series:\n",
    "        print(\"Latitudes disponibles:\", ds.latitude.values)\n",
    "        print(\"Longitudes disponibles:\", ds.longitude.values)\n",
    "    \n",
    "    # Seleccionar el punto más cercano\n",
    "    try:\n",
    "        if 't2m' in ds.data_vars:\n",
    "            temperature = ds['t2m'].sel(latitude=lat_sla, longitude=lon_sla, method='nearest')\n",
    "            temperature_series.append(temperature.to_dataframe().reset_index())\n",
    "    except KeyError as e:\n",
    "        print(f\"Error al seleccionar datos en el archivo {f}: {e}\")\n",
    "    finally:\n",
    "        ds.close()\n",
    "\n",
    "# Concatenar todas las series\n",
    "if temperature_series:\n",
    "    df_temperature = pd.concat(temperature_series, ignore_index=True)\n",
    "    df_temperature['t2m'] = df_temperature['t2m'] - 273.15  # Convertir a °C si está en Kelvin\n",
    "    df_temperature = df_temperature[['valid_time', 'number', 'latitude', 'longitude', 't2m']].copy()\n",
    "    df_temperature.to_csv('temperature_series.csv', index=False)\n",
    "    print(\"Datos de temperatura guardados en 'temperature_series.csv'.\")\n",
    "\n",
    "\n",
    "if not temperature_series:\n",
    "    print(\"No se pudieron extraer datos válidos.\")"
   ]
  },
  {
   "cell_type": "code",
   "execution_count": 2,
   "id": "dda37410",
   "metadata": {},
   "outputs": [
    {
     "name": "stdout",
     "output_type": "stream",
     "text": [
      "<class 'pandas.core.frame.DataFrame'>\n",
      "RangeIndex: 17544 entries, 0 to 17543\n",
      "Data columns (total 5 columns):\n",
      " #   Column      Non-Null Count  Dtype         \n",
      "---  ------      --------------  -----         \n",
      " 0   valid_time  17544 non-null  datetime64[ns]\n",
      " 1   number      17544 non-null  int64         \n",
      " 2   latitude    17544 non-null  float64       \n",
      " 3   longitude   17544 non-null  float64       \n",
      " 4   t2m         17544 non-null  float32       \n",
      "dtypes: datetime64[ns](1), float32(1), float64(2), int64(1)\n",
      "memory usage: 616.9 KB\n"
     ]
    },
    {
     "data": {
      "text/plain": [
       "(           valid_time  number  latitude  longitude        t2m\n",
       " 0 2023-01-01 00:00:00       0    -24.75      -65.5  20.844391\n",
       " 1 2023-01-01 01:00:00       0    -24.75      -65.5  20.472321,\n",
       "                valid_time  number  latitude  longitude        t2m\n",
       " 17542 2024-12-31 22:00:00       0    -24.75      -65.5  22.305817\n",
       " 17543 2024-12-31 23:00:00       0    -24.75      -65.5  21.170807,\n",
       " None,\n",
       " count    17544.000000\n",
       " mean        14.936983\n",
       " std          5.937288\n",
       " min         -4.646576\n",
       " 25%         10.829681\n",
       " 50%         15.460602\n",
       " 75%         19.002899\n",
       " max         31.347076\n",
       " Name: t2m, dtype: float64)"
      ]
     },
     "execution_count": 2,
     "metadata": {},
     "output_type": "execute_result"
    }
   ],
   "source": [
    "df_temperature.head(2), df_temperature.tail(2), df_temperature.info(), df_temperature.t2m.describe()"
   ]
  },
  {
   "cell_type": "code",
   "execution_count": 3,
   "id": "8c80e86e",
   "metadata": {},
   "outputs": [],
   "source": [
    "import matplotlib.pyplot as plt\n",
    "%matplotlib qt\n",
    "\n",
    "plt.plot(df_temperature['valid_time'], df_temperature['t2m'], label='Temperatura (°C)', linestyle='--')\n",
    "plt.legend()\n",
    "plt.grid()\n",
    "plt.show()\n"
   ]
  },
  {
   "cell_type": "code",
   "execution_count": 4,
   "id": "9382415d",
   "metadata": {},
   "outputs": [],
   "source": [
    "df_temperature.to_csv('/home/cony/Documentos/Cony/trabajo_final/para_subir/datos/datos_era_sla.csv', index=False)"
   ]
  }
 ],
 "metadata": {
  "kernelspec": {
   "display_name": "env_trabajo (3.10.12)",
   "language": "python",
   "name": "python3"
  },
  "language_info": {
   "codemirror_mode": {
    "name": "ipython",
    "version": 3
   },
   "file_extension": ".py",
   "mimetype": "text/x-python",
   "name": "python",
   "nbconvert_exporter": "python",
   "pygments_lexer": "ipython3",
   "version": "3.10.12"
  }
 },
 "nbformat": 4,
 "nbformat_minor": 5
}
